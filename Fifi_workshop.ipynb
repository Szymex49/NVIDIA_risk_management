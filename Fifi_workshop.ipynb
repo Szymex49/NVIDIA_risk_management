{
 "cells": [
  {
   "cell_type": "code",
   "execution_count": 9,
   "id": "d618e87f",
   "metadata": {},
   "outputs": [],
   "source": [
    "import pandas as pd\n",
    "import matplotlib.pyplot as plt\n",
    "import numpy as np\n",
    "import math\n",
    "from statistics import stdev\n",
    "import seaborn as sns"
   ]
  },
  {
   "cell_type": "markdown",
   "id": "cbeb9a83",
   "metadata": {},
   "source": [
    "## Ceny miedzi na przestrzeni 5 lat (bierzemy ceny otwarcia Open)"
   ]
  },
  {
   "cell_type": "code",
   "execution_count": 3,
   "id": "c7260cfd",
   "metadata": {},
   "outputs": [
    {
     "data": {
      "text/html": [
       "<div>\n",
       "<style scoped>\n",
       "    .dataframe tbody tr th:only-of-type {\n",
       "        vertical-align: middle;\n",
       "    }\n",
       "\n",
       "    .dataframe tbody tr th {\n",
       "        vertical-align: top;\n",
       "    }\n",
       "\n",
       "    .dataframe thead th {\n",
       "        text-align: right;\n",
       "    }\n",
       "</style>\n",
       "<table border=\"1\" class=\"dataframe\">\n",
       "  <thead>\n",
       "    <tr style=\"text-align: right;\">\n",
       "      <th></th>\n",
       "      <th>Date</th>\n",
       "      <th>Close/Last</th>\n",
       "      <th>Volume</th>\n",
       "      <th>Open</th>\n",
       "      <th>High</th>\n",
       "      <th>Low</th>\n",
       "    </tr>\n",
       "  </thead>\n",
       "  <tbody>\n",
       "    <tr>\n",
       "      <th>0</th>\n",
       "      <td>03/28/2023</td>\n",
       "      <td>4.0855</td>\n",
       "      <td>75067</td>\n",
       "      <td>4.0970</td>\n",
       "      <td>4.1130</td>\n",
       "      <td>4.0590</td>\n",
       "    </tr>\n",
       "    <tr>\n",
       "      <th>1</th>\n",
       "      <td>03/27/2023</td>\n",
       "      <td>4.0785</td>\n",
       "      <td>65558</td>\n",
       "      <td>4.0750</td>\n",
       "      <td>4.1020</td>\n",
       "      <td>4.0235</td>\n",
       "    </tr>\n",
       "    <tr>\n",
       "      <th>2</th>\n",
       "      <td>03/24/2023</td>\n",
       "      <td>4.0750</td>\n",
       "      <td>82229</td>\n",
       "      <td>4.1015</td>\n",
       "      <td>4.1485</td>\n",
       "      <td>4.0505</td>\n",
       "    </tr>\n",
       "    <tr>\n",
       "      <th>3</th>\n",
       "      <td>03/23/2023</td>\n",
       "      <td>4.1235</td>\n",
       "      <td>77824</td>\n",
       "      <td>4.0430</td>\n",
       "      <td>4.1265</td>\n",
       "      <td>4.0225</td>\n",
       "    </tr>\n",
       "    <tr>\n",
       "      <th>4</th>\n",
       "      <td>03/22/2023</td>\n",
       "      <td>4.0445</td>\n",
       "      <td>77119</td>\n",
       "      <td>4.0015</td>\n",
       "      <td>4.1075</td>\n",
       "      <td>3.9715</td>\n",
       "    </tr>\n",
       "    <tr>\n",
       "      <th>...</th>\n",
       "      <td>...</td>\n",
       "      <td>...</td>\n",
       "      <td>...</td>\n",
       "      <td>...</td>\n",
       "      <td>...</td>\n",
       "      <td>...</td>\n",
       "    </tr>\n",
       "    <tr>\n",
       "      <th>1254</th>\n",
       "      <td>04/05/2018</td>\n",
       "      <td>3.0745</td>\n",
       "      <td>107499</td>\n",
       "      <td>3.0285</td>\n",
       "      <td>3.0880</td>\n",
       "      <td>3.0135</td>\n",
       "    </tr>\n",
       "    <tr>\n",
       "      <th>1255</th>\n",
       "      <td>04/04/2018</td>\n",
       "      <td>3.0105</td>\n",
       "      <td>137745</td>\n",
       "      <td>3.0670</td>\n",
       "      <td>3.0695</td>\n",
       "      <td>2.9700</td>\n",
       "    </tr>\n",
       "    <tr>\n",
       "      <th>1256</th>\n",
       "      <td>04/03/2018</td>\n",
       "      <td>3.0635</td>\n",
       "      <td>109250</td>\n",
       "      <td>3.0445</td>\n",
       "      <td>3.0695</td>\n",
       "      <td>3.0385</td>\n",
       "    </tr>\n",
       "    <tr>\n",
       "      <th>1257</th>\n",
       "      <td>04/02/2018</td>\n",
       "      <td>3.0500</td>\n",
       "      <td>68976</td>\n",
       "      <td>3.0480</td>\n",
       "      <td>3.0725</td>\n",
       "      <td>3.0370</td>\n",
       "    </tr>\n",
       "    <tr>\n",
       "      <th>1258</th>\n",
       "      <td>03/29/2018</td>\n",
       "      <td>3.0255</td>\n",
       "      <td>102588</td>\n",
       "      <td>3.0010</td>\n",
       "      <td>3.0490</td>\n",
       "      <td>2.9945</td>\n",
       "    </tr>\n",
       "  </tbody>\n",
       "</table>\n",
       "<p>1259 rows × 6 columns</p>\n",
       "</div>"
      ],
      "text/plain": [
       "            Date  Close/Last  Volume    Open    High     Low\n",
       "0     03/28/2023      4.0855   75067  4.0970  4.1130  4.0590\n",
       "1     03/27/2023      4.0785   65558  4.0750  4.1020  4.0235\n",
       "2     03/24/2023      4.0750   82229  4.1015  4.1485  4.0505\n",
       "3     03/23/2023      4.1235   77824  4.0430  4.1265  4.0225\n",
       "4     03/22/2023      4.0445   77119  4.0015  4.1075  3.9715\n",
       "...          ...         ...     ...     ...     ...     ...\n",
       "1254  04/05/2018      3.0745  107499  3.0285  3.0880  3.0135\n",
       "1255  04/04/2018      3.0105  137745  3.0670  3.0695  2.9700\n",
       "1256  04/03/2018      3.0635  109250  3.0445  3.0695  3.0385\n",
       "1257  04/02/2018      3.0500   68976  3.0480  3.0725  3.0370\n",
       "1258  03/29/2018      3.0255  102588  3.0010  3.0490  2.9945\n",
       "\n",
       "[1259 rows x 6 columns]"
      ]
     },
     "execution_count": 3,
     "metadata": {},
     "output_type": "execute_result"
    }
   ],
   "source": [
    "copper = pd.read_csv('copper.csv', sep = ',', encoding = 'latin-1')\n",
    "copper"
   ]
  },
  {
   "cell_type": "markdown",
   "id": "9b745931",
   "metadata": {},
   "source": [
    "## Wykres cen miedzi - jeszcze upiększyć"
   ]
  },
  {
   "cell_type": "code",
   "execution_count": 9,
   "id": "1b80152a",
   "metadata": {},
   "outputs": [
    {
     "data": {
      "image/png": "[encoded data removed]",
      "text/plain": [
       "<Figure size 432x288 with 1 Axes>"
      ]
     },
     "metadata": {
      "needs_background": "light"
     },
     "output_type": "display_data"
    }
   ],
   "source": [
    "plt.plot(copper['Date'].values[::-1], copper['Open'].values[::-1])\n",
    "plt.show()"
   ]
  },
  {
   "cell_type": "markdown",
   "id": "d1282ca4",
   "metadata": {},
   "source": [
    "## Histogram logarytmicznych przyrostów"
   ]
  },
  {
   "cell_type": "code",
   "execution_count": 5,
   "id": "706c20e2",
   "metadata": {},
   "outputs": [
    {
     "data": {
      "image/png": "[encoded data removed]",
      "text/plain": [
       "<Figure size 432x288 with 1 Axes>"
      ]
     },
     "metadata": {
      "needs_background": "light"
     },
     "output_type": "display_data"
    }
   ],
   "source": [
    "s = np.array(copper['Open'].values[1:])\n",
    "s2 = np.array(copper['Open'].values[:-1])\n",
    "r = np.log(s/s2)\n",
    "plt.hist(r, bins = 30, density = True)\n",
    "plt.show()"
   ]
  },
  {
   "cell_type": "markdown",
   "id": "2bf20403",
   "metadata": {},
   "source": [
    "## Miary zmienności ryzyka"
   ]
  },
  {
   "cell_type": "markdown",
   "id": "cc96825b",
   "metadata": {},
   "source": [
    "#### Podejście parametryczne"
   ]
  },
  {
   "cell_type": "code",
   "execution_count": 50,
   "id": "1f1a293a",
   "metadata": {},
   "outputs": [],
   "source": [
    "def norm_kde(x, mi, sigma):\n",
    "    x = np.array(sorted(x))\n",
    "    y = 1/(math.sqrt(2*math.pi)*sigma)*np.exp(-(x - mi)**2/(2*sigma**2))\n",
    "    fig = plt.figure(figsize=(10, 5))\n",
    "    ax = fig.add_subplot(1, 1, 1) \n",
    "    plt.plot(x, y, color = 'blue', label = 'PDF')\n",
    "    plt.hist(x, bins = 50, density = True, color = 'red', ec = 'black')\n",
    "    sns.distplot(x, hist=False, label='poisson')\n",
    "    plt.xlabel('x')\n",
    "    plt.ylabel('f(x)')\n",
    "    plt.legend()\n",
    "    plt.show()"
   ]
  },
  {
   "cell_type": "code",
   "execution_count": 51,
   "id": "e1c91dc4",
   "metadata": {},
   "outputs": [
    {
     "name": "stdout",
     "output_type": "stream",
     "text": [
      "Średnia: -0.00024746377750914307\n",
      "Odchylenie standardowe: 0.014277995279475233\n"
     ]
    }
   ],
   "source": [
    "mu = np.mean(r)\n",
    "s = stdev(r)\n",
    "print('Średnia: ' + str(mu))\n",
    "print('Odchylenie standardowe: ' + str(s))"
   ]
  },
  {
   "cell_type": "code",
   "execution_count": 52,
   "id": "6da8ad36",
   "metadata": {},
   "outputs": [
    {
     "name": "stderr",
     "output_type": "stream",
     "text": [
      "c:\\Users\\Filip\\AppData\\Local\\Programs\\Python\\Python39\\lib\\site-packages\\seaborn\\distributions.py:2619: FutureWarning: `distplot` is a deprecated function and will be removed in a future version. Please adapt your code to use either `displot` (a figure-level function with similar flexibility) or `kdeplot` (an axes-level function for kernel density plots).\n",
      "  warnings.warn(msg, FutureWarning)\n"
     ]
    },
    {
     "data": {
      "image/png": "[encoded data removed]",
      "text/plain": [
       "<Figure size 720x360 with 1 Axes>"
      ]
     },
     "metadata": {
      "needs_background": "light"
     },
     "output_type": "display_data"
    }
   ],
   "source": [
    "norm_kde(r, mu, s)"
   ]
  },
  {
   "cell_type": "markdown",
   "id": "fd022c8d",
   "metadata": {},
   "source": [
    "#### Podejście nieparametryczne"
   ]
  },
  {
   "cell_type": "code",
   "execution_count": 70,
   "id": "577bce07",
   "metadata": {},
   "outputs": [],
   "source": [
    "x = np.random.poisson(lam=0.2, size=10)"
   ]
  },
  {
   "cell_type": "code",
   "execution_count": 71,
   "id": "09db959d",
   "metadata": {},
   "outputs": [
    {
     "name": "stdout",
     "output_type": "stream",
     "text": [
      "[0 0 1 1 0 0 0 0 0 0]\n"
     ]
    }
   ],
   "source": [
    "print(x)"
   ]
  },
  {
   "cell_type": "code",
   "execution_count": 40,
   "id": "dea2b19e",
   "metadata": {},
   "outputs": [
    {
     "data": {
      "text/html": [
       "<div>\n",
       "<style scoped>\n",
       "    .dataframe tbody tr th:only-of-type {\n",
       "        vertical-align: middle;\n",
       "    }\n",
       "\n",
       "    .dataframe tbody tr th {\n",
       "        vertical-align: top;\n",
       "    }\n",
       "\n",
       "    .dataframe thead th {\n",
       "        text-align: right;\n",
       "    }\n",
       "</style>\n",
       "<table border=\"1\" class=\"dataframe\">\n",
       "  <thead>\n",
       "    <tr style=\"text-align: right;\">\n",
       "      <th></th>\n",
       "      <th>Date</th>\n",
       "      <th>Open</th>\n",
       "      <th>High</th>\n",
       "      <th>Low</th>\n",
       "      <th>Close</th>\n",
       "      <th>Adj Close</th>\n",
       "      <th>Volume</th>\n",
       "    </tr>\n",
       "  </thead>\n",
       "  <tbody>\n",
       "  </tbody>\n",
       "</table>\n",
       "</div>"
      ],
      "text/plain": [
       "Empty DataFrame\n",
       "Columns: [Date, Open, High, Low, Close, Adj Close, Volume]\n",
       "Index: []"
      ]
     },
     "execution_count": 40,
     "metadata": {},
     "output_type": "execute_result"
    }
   ],
   "source": [
    "aluminium = pd.read_csv('aluminium.csv', sep = ',', encoding = 'utf-8')\n",
    "#aluminium['Date']\n",
    "\n",
    "aluminium[aluminium['Date'] == None]"
   ]
  },
  {
   "cell_type": "code",
   "execution_count": 41,
   "id": "448835ed",
   "metadata": {},
   "outputs": [
    {
     "data": {
      "text/html": [
       "<div>\n",
       "<style scoped>\n",
       "    .dataframe tbody tr th:only-of-type {\n",
       "        vertical-align: middle;\n",
       "    }\n",
       "\n",
       "    .dataframe tbody tr th {\n",
       "        vertical-align: top;\n",
       "    }\n",
       "\n",
       "    .dataframe thead th {\n",
       "        text-align: right;\n",
       "    }\n",
       "</style>\n",
       "<table border=\"1\" class=\"dataframe\">\n",
       "  <thead>\n",
       "    <tr style=\"text-align: right;\">\n",
       "      <th></th>\n",
       "      <th>Date</th>\n",
       "      <th>Open</th>\n",
       "      <th>High</th>\n",
       "      <th>Low</th>\n",
       "      <th>Close</th>\n",
       "      <th>Adj Close</th>\n",
       "      <th>Volume</th>\n",
       "    </tr>\n",
       "  </thead>\n",
       "  <tbody>\n",
       "    <tr>\n",
       "      <th>1234</th>\n",
       "      <td>2023-04-13</td>\n",
       "      <td>194.949997</td>\n",
       "      <td>197.899994</td>\n",
       "      <td>192.000000</td>\n",
       "      <td>194.899994</td>\n",
       "      <td>194.899994</td>\n",
       "      <td>24897</td>\n",
       "    </tr>\n",
       "    <tr>\n",
       "      <th>1233</th>\n",
       "      <td>2023-04-12</td>\n",
       "      <td>188.850006</td>\n",
       "      <td>197.699997</td>\n",
       "      <td>186.100006</td>\n",
       "      <td>192.100006</td>\n",
       "      <td>192.100006</td>\n",
       "      <td>18912</td>\n",
       "    </tr>\n",
       "    <tr>\n",
       "      <th>1232</th>\n",
       "      <td>2023-04-11</td>\n",
       "      <td>185.449997</td>\n",
       "      <td>189.949997</td>\n",
       "      <td>181.250000</td>\n",
       "      <td>186.649994</td>\n",
       "      <td>186.649994</td>\n",
       "      <td>13972</td>\n",
       "    </tr>\n",
       "    <tr>\n",
       "      <th>1231</th>\n",
       "      <td>2023-04-10</td>\n",
       "      <td>184.949997</td>\n",
       "      <td>186.300003</td>\n",
       "      <td>182.050003</td>\n",
       "      <td>185.449997</td>\n",
       "      <td>185.449997</td>\n",
       "      <td>14024</td>\n",
       "    </tr>\n",
       "    <tr>\n",
       "      <th>1230</th>\n",
       "      <td>2023-04-06</td>\n",
       "      <td>184.899994</td>\n",
       "      <td>184.899994</td>\n",
       "      <td>180.500000</td>\n",
       "      <td>182.300003</td>\n",
       "      <td>182.300003</td>\n",
       "      <td>15717</td>\n",
       "    </tr>\n",
       "    <tr>\n",
       "      <th>...</th>\n",
       "      <td>...</td>\n",
       "      <td>...</td>\n",
       "      <td>...</td>\n",
       "      <td>...</td>\n",
       "      <td>...</td>\n",
       "      <td>...</td>\n",
       "      <td>...</td>\n",
       "    </tr>\n",
       "    <tr>\n",
       "      <th>4</th>\n",
       "      <td>2018-04-20</td>\n",
       "      <td>78.199997</td>\n",
       "      <td>78.199997</td>\n",
       "      <td>73.550003</td>\n",
       "      <td>74.599998</td>\n",
       "      <td>69.847122</td>\n",
       "      <td>101320</td>\n",
       "    </tr>\n",
       "    <tr>\n",
       "      <th>3</th>\n",
       "      <td>2018-04-19</td>\n",
       "      <td>71.500000</td>\n",
       "      <td>78.449997</td>\n",
       "      <td>71.500000</td>\n",
       "      <td>78.449997</td>\n",
       "      <td>73.451828</td>\n",
       "      <td>212772</td>\n",
       "    </tr>\n",
       "    <tr>\n",
       "      <th>2</th>\n",
       "      <td>2018-04-18</td>\n",
       "      <td>71.900002</td>\n",
       "      <td>73.949997</td>\n",
       "      <td>70.824997</td>\n",
       "      <td>71.324997</td>\n",
       "      <td>66.780777</td>\n",
       "      <td>24882</td>\n",
       "    </tr>\n",
       "    <tr>\n",
       "      <th>1</th>\n",
       "      <td>2018-04-17</td>\n",
       "      <td>72.474998</td>\n",
       "      <td>73.349998</td>\n",
       "      <td>70.050003</td>\n",
       "      <td>71.250000</td>\n",
       "      <td>66.710564</td>\n",
       "      <td>24434</td>\n",
       "    </tr>\n",
       "    <tr>\n",
       "      <th>0</th>\n",
       "      <td>2018-04-16</td>\n",
       "      <td>74.500000</td>\n",
       "      <td>74.500000</td>\n",
       "      <td>68.224998</td>\n",
       "      <td>71.650002</td>\n",
       "      <td>67.085075</td>\n",
       "      <td>39988</td>\n",
       "    </tr>\n",
       "  </tbody>\n",
       "</table>\n",
       "<p>1235 rows × 7 columns</p>\n",
       "</div>"
      ],
      "text/plain": [
       "            Date        Open        High         Low       Close   Adj Close  \\\n",
       "1234  2023-04-13  194.949997  197.899994  192.000000  194.899994  194.899994   \n",
       "1233  2023-04-12  188.850006  197.699997  186.100006  192.100006  192.100006   \n",
       "1232  2023-04-11  185.449997  189.949997  181.250000  186.649994  186.649994   \n",
       "1231  2023-04-10  184.949997  186.300003  182.050003  185.449997  185.449997   \n",
       "1230  2023-04-06  184.899994  184.899994  180.500000  182.300003  182.300003   \n",
       "...          ...         ...         ...         ...         ...         ...   \n",
       "4     2018-04-20   78.199997   78.199997   73.550003   74.599998   69.847122   \n",
       "3     2018-04-19   71.500000   78.449997   71.500000   78.449997   73.451828   \n",
       "2     2018-04-18   71.900002   73.949997   70.824997   71.324997   66.780777   \n",
       "1     2018-04-17   72.474998   73.349998   70.050003   71.250000   66.710564   \n",
       "0     2018-04-16   74.500000   74.500000   68.224998   71.650002   67.085075   \n",
       "\n",
       "      Volume  \n",
       "1234   24897  \n",
       "1233   18912  \n",
       "1232   13972  \n",
       "1231   14024  \n",
       "1230   15717  \n",
       "...      ...  \n",
       "4     101320  \n",
       "3     212772  \n",
       "2      24882  \n",
       "1      24434  \n",
       "0      39988  \n",
       "\n",
       "[1235 rows x 7 columns]"
      ]
     },
     "execution_count": 41,
     "metadata": {},
     "output_type": "execute_result"
    }
   ],
   "source": [
    "aluminium[::-1]"
   ]
  },
  {
   "cell_type": "code",
   "execution_count": 42,
   "id": "d57cbcdf",
   "metadata": {},
   "outputs": [],
   "source": [
    "y = aluminium['Open']\n",
    "#x = aluminium['Date']\n",
    "#print(x)"
   ]
  },
  {
   "cell_type": "code",
   "execution_count": 45,
   "id": "7cca4bd3",
   "metadata": {},
   "outputs": [
    {
     "data": {
      "image/png": "[encoded data removed]",
      "text/plain": [
       "<Figure size 432x288 with 1 Axes>"
      ]
     },
     "metadata": {
      "needs_background": "light"
     },
     "output_type": "display_data"
    }
   ],
   "source": [
    "plt.plot(aluminium['Date'], aluminium['Open'])\n",
    "plt.show()"
   ]
  },
  {
   "attachments": {},
   "cell_type": "markdown",
   "id": "c81738e6",
   "metadata": {},
   "source": [
    "# Analiza danych ropy i miedzi\n"
   ]
  },
  {
   "cell_type": "code",
   "execution_count": 2,
   "id": "aaa8ab3f",
   "metadata": {},
   "outputs": [
    {
     "data": {
      "text/html": [
       "<div>\n",
       "<style scoped>\n",
       "    .dataframe tbody tr th:only-of-type {\n",
       "        vertical-align: middle;\n",
       "    }\n",
       "\n",
       "    .dataframe tbody tr th {\n",
       "        vertical-align: top;\n",
       "    }\n",
       "\n",
       "    .dataframe thead th {\n",
       "        text-align: right;\n",
       "    }\n",
       "</style>\n",
       "<table border=\"1\" class=\"dataframe\">\n",
       "  <thead>\n",
       "    <tr style=\"text-align: right;\">\n",
       "      <th></th>\n",
       "      <th>Date</th>\n",
       "      <th>Close/Last</th>\n",
       "      <th>Volume</th>\n",
       "      <th>Open</th>\n",
       "      <th>High</th>\n",
       "      <th>Low</th>\n",
       "    </tr>\n",
       "  </thead>\n",
       "  <tbody>\n",
       "    <tr>\n",
       "      <th>0</th>\n",
       "      <td>04/14/2023</td>\n",
       "      <td>4.1065</td>\n",
       "      <td>98124</td>\n",
       "      <td>4.1285</td>\n",
       "      <td>4.1955</td>\n",
       "      <td>4.0950</td>\n",
       "    </tr>\n",
       "    <tr>\n",
       "      <th>1</th>\n",
       "      <td>04/13/2023</td>\n",
       "      <td>4.1240</td>\n",
       "      <td>88437</td>\n",
       "      <td>4.0700</td>\n",
       "      <td>4.1430</td>\n",
       "      <td>4.0535</td>\n",
       "    </tr>\n",
       "    <tr>\n",
       "      <th>2</th>\n",
       "      <td>04/12/2023</td>\n",
       "      <td>4.0810</td>\n",
       "      <td>88325</td>\n",
       "      <td>4.0295</td>\n",
       "      <td>4.0880</td>\n",
       "      <td>3.9840</td>\n",
       "    </tr>\n",
       "    <tr>\n",
       "      <th>3</th>\n",
       "      <td>04/11/2023</td>\n",
       "      <td>4.0195</td>\n",
       "      <td>81243</td>\n",
       "      <td>3.9870</td>\n",
       "      <td>4.0540</td>\n",
       "      <td>3.9780</td>\n",
       "    </tr>\n",
       "    <tr>\n",
       "      <th>4</th>\n",
       "      <td>04/10/2023</td>\n",
       "      <td>3.9765</td>\n",
       "      <td>53745</td>\n",
       "      <td>4.0180</td>\n",
       "      <td>4.0395</td>\n",
       "      <td>3.9630</td>\n",
       "    </tr>\n",
       "    <tr>\n",
       "      <th>...</th>\n",
       "      <td>...</td>\n",
       "      <td>...</td>\n",
       "      <td>...</td>\n",
       "      <td>...</td>\n",
       "      <td>...</td>\n",
       "      <td>...</td>\n",
       "    </tr>\n",
       "    <tr>\n",
       "      <th>1255</th>\n",
       "      <td>04/20/2018</td>\n",
       "      <td>3.1555</td>\n",
       "      <td>33960</td>\n",
       "      <td>3.1490</td>\n",
       "      <td>3.1685</td>\n",
       "      <td>3.1275</td>\n",
       "    </tr>\n",
       "    <tr>\n",
       "      <th>1256</th>\n",
       "      <td>04/19/2018</td>\n",
       "      <td>3.1540</td>\n",
       "      <td>37634</td>\n",
       "      <td>3.1835</td>\n",
       "      <td>3.2180</td>\n",
       "      <td>3.1350</td>\n",
       "    </tr>\n",
       "    <tr>\n",
       "      <th>1257</th>\n",
       "      <td>04/18/2018</td>\n",
       "      <td>3.1815</td>\n",
       "      <td>51721</td>\n",
       "      <td>3.1100</td>\n",
       "      <td>3.2015</td>\n",
       "      <td>3.0995</td>\n",
       "    </tr>\n",
       "    <tr>\n",
       "      <th>1258</th>\n",
       "      <td>04/17/2018</td>\n",
       "      <td>3.0795</td>\n",
       "      <td>88784</td>\n",
       "      <td>3.0835</td>\n",
       "      <td>3.1020</td>\n",
       "      <td>3.0545</td>\n",
       "    </tr>\n",
       "    <tr>\n",
       "      <th>1259</th>\n",
       "      <td>04/16/2018</td>\n",
       "      <td>3.0955</td>\n",
       "      <td>103418</td>\n",
       "      <td>3.0645</td>\n",
       "      <td>3.1170</td>\n",
       "      <td>3.0440</td>\n",
       "    </tr>\n",
       "  </tbody>\n",
       "</table>\n",
       "<p>1260 rows × 6 columns</p>\n",
       "</div>"
      ],
      "text/plain": [
       "            Date  Close/Last  Volume    Open    High     Low\n",
       "0     04/14/2023      4.1065   98124  4.1285  4.1955  4.0950\n",
       "1     04/13/2023      4.1240   88437  4.0700  4.1430  4.0535\n",
       "2     04/12/2023      4.0810   88325  4.0295  4.0880  3.9840\n",
       "3     04/11/2023      4.0195   81243  3.9870  4.0540  3.9780\n",
       "4     04/10/2023      3.9765   53745  4.0180  4.0395  3.9630\n",
       "...          ...         ...     ...     ...     ...     ...\n",
       "1255  04/20/2018      3.1555   33960  3.1490  3.1685  3.1275\n",
       "1256  04/19/2018      3.1540   37634  3.1835  3.2180  3.1350\n",
       "1257  04/18/2018      3.1815   51721  3.1100  3.2015  3.0995\n",
       "1258  04/17/2018      3.0795   88784  3.0835  3.1020  3.0545\n",
       "1259  04/16/2018      3.0955  103418  3.0645  3.1170  3.0440\n",
       "\n",
       "[1260 rows x 6 columns]"
      ]
     },
     "execution_count": 2,
     "metadata": {},
     "output_type": "execute_result"
    }
   ],
   "source": [
    "copper = pd.read_csv('copper_fresh.csv', sep = ',', encoding = 'latin-1')\n",
    "copper"
   ]
  },
  {
   "cell_type": "code",
   "execution_count": 4,
   "id": "3725da5e",
   "metadata": {},
   "outputs": [
    {
     "data": {
      "text/html": [
       "<div>\n",
       "<style scoped>\n",
       "    .dataframe tbody tr th:only-of-type {\n",
       "        vertical-align: middle;\n",
       "    }\n",
       "\n",
       "    .dataframe tbody tr th {\n",
       "        vertical-align: top;\n",
       "    }\n",
       "\n",
       "    .dataframe thead th {\n",
       "        text-align: right;\n",
       "    }\n",
       "</style>\n",
       "<table border=\"1\" class=\"dataframe\">\n",
       "  <thead>\n",
       "    <tr style=\"text-align: right;\">\n",
       "      <th></th>\n",
       "      <th>Date</th>\n",
       "      <th>Close/Last</th>\n",
       "      <th>Volume</th>\n",
       "      <th>Open</th>\n",
       "      <th>High</th>\n",
       "      <th>Low</th>\n",
       "    </tr>\n",
       "  </thead>\n",
       "  <tbody>\n",
       "    <tr>\n",
       "      <th>0</th>\n",
       "      <td>04/14/2023</td>\n",
       "      <td>82.52</td>\n",
       "      <td>243847</td>\n",
       "      <td>82.40</td>\n",
       "      <td>83.12</td>\n",
       "      <td>81.76</td>\n",
       "    </tr>\n",
       "    <tr>\n",
       "      <th>1</th>\n",
       "      <td>04/13/2023</td>\n",
       "      <td>82.16</td>\n",
       "      <td>233440</td>\n",
       "      <td>83.22</td>\n",
       "      <td>83.44</td>\n",
       "      <td>82.11</td>\n",
       "    </tr>\n",
       "    <tr>\n",
       "      <th>2</th>\n",
       "      <td>04/12/2023</td>\n",
       "      <td>83.26</td>\n",
       "      <td>323826</td>\n",
       "      <td>81.44</td>\n",
       "      <td>83.53</td>\n",
       "      <td>81.28</td>\n",
       "    </tr>\n",
       "    <tr>\n",
       "      <th>3</th>\n",
       "      <td>04/11/2023</td>\n",
       "      <td>81.53</td>\n",
       "      <td>282640</td>\n",
       "      <td>79.88</td>\n",
       "      <td>81.59</td>\n",
       "      <td>79.37</td>\n",
       "    </tr>\n",
       "    <tr>\n",
       "      <th>4</th>\n",
       "      <td>04/10/2023</td>\n",
       "      <td>79.74</td>\n",
       "      <td>238729</td>\n",
       "      <td>80.50</td>\n",
       "      <td>81.22</td>\n",
       "      <td>79.61</td>\n",
       "    </tr>\n",
       "    <tr>\n",
       "      <th>...</th>\n",
       "      <td>...</td>\n",
       "      <td>...</td>\n",
       "      <td>...</td>\n",
       "      <td>...</td>\n",
       "      <td>...</td>\n",
       "      <td>...</td>\n",
       "    </tr>\n",
       "    <tr>\n",
       "      <th>1255</th>\n",
       "      <td>04/20/2018</td>\n",
       "      <td>68.40</td>\n",
       "      <td>22739</td>\n",
       "      <td>68.26</td>\n",
       "      <td>68.62</td>\n",
       "      <td>67.50</td>\n",
       "    </tr>\n",
       "    <tr>\n",
       "      <th>1256</th>\n",
       "      <td>04/19/2018</td>\n",
       "      <td>68.29</td>\n",
       "      <td>89450</td>\n",
       "      <td>68.75</td>\n",
       "      <td>69.56</td>\n",
       "      <td>67.98</td>\n",
       "    </tr>\n",
       "    <tr>\n",
       "      <th>1257</th>\n",
       "      <td>04/18/2018</td>\n",
       "      <td>68.47</td>\n",
       "      <td>207210</td>\n",
       "      <td>66.68</td>\n",
       "      <td>68.91</td>\n",
       "      <td>66.56</td>\n",
       "    </tr>\n",
       "    <tr>\n",
       "      <th>1258</th>\n",
       "      <td>04/17/2018</td>\n",
       "      <td>66.52</td>\n",
       "      <td>472785</td>\n",
       "      <td>66.42</td>\n",
       "      <td>66.75</td>\n",
       "      <td>65.56</td>\n",
       "    </tr>\n",
       "    <tr>\n",
       "      <th>1259</th>\n",
       "      <td>04/16/2018</td>\n",
       "      <td>66.22</td>\n",
       "      <td>543828</td>\n",
       "      <td>67.24</td>\n",
       "      <td>67.74</td>\n",
       "      <td>66.13</td>\n",
       "    </tr>\n",
       "  </tbody>\n",
       "</table>\n",
       "<p>1260 rows × 6 columns</p>\n",
       "</div>"
      ],
      "text/plain": [
       "            Date  Close/Last  Volume   Open   High    Low\n",
       "0     04/14/2023       82.52  243847  82.40  83.12  81.76\n",
       "1     04/13/2023       82.16  233440  83.22  83.44  82.11\n",
       "2     04/12/2023       83.26  323826  81.44  83.53  81.28\n",
       "3     04/11/2023       81.53  282640  79.88  81.59  79.37\n",
       "4     04/10/2023       79.74  238729  80.50  81.22  79.61\n",
       "...          ...         ...     ...    ...    ...    ...\n",
       "1255  04/20/2018       68.40   22739  68.26  68.62  67.50\n",
       "1256  04/19/2018       68.29   89450  68.75  69.56  67.98\n",
       "1257  04/18/2018       68.47  207210  66.68  68.91  66.56\n",
       "1258  04/17/2018       66.52  472785  66.42  66.75  65.56\n",
       "1259  04/16/2018       66.22  543828  67.24  67.74  66.13\n",
       "\n",
       "[1260 rows x 6 columns]"
      ]
     },
     "execution_count": 4,
     "metadata": {},
     "output_type": "execute_result"
    }
   ],
   "source": [
    "crudeoil = pd.read_csv('crudeoil_fresh.csv', sep = ',', encoding = 'latin-1')\n",
    "crudeoil"
   ]
  },
  {
   "cell_type": "code",
   "execution_count": 8,
   "id": "5c2c808b",
   "metadata": {},
   "outputs": [
    {
     "data": {
      "image/png": "[encoded data removed]",
      "text/plain": [
       "<Figure size 432x288 with 1 Axes>"
      ]
     },
     "metadata": {
      "needs_background": "light"
     },
     "output_type": "display_data"
    }
   ],
   "source": [
    "plt.scatter(copper['Open'].values[::-1],crudeoil['Open'].values[::-1])\n",
    "plt.show()"
   ]
  },
  {
   "cell_type": "code",
   "execution_count": 12,
   "id": "c50ee202",
   "metadata": {},
   "outputs": [
    {
     "data": {
      "text/plain": [
       "array([[1.        , 0.66927312],\n",
       "       [0.66927312, 1.        ]])"
      ]
     },
     "execution_count": 12,
     "metadata": {},
     "output_type": "execute_result"
    }
   ],
   "source": [
    "korelacja = np.corrcoef(copper['Open'], crudeoil['Open'])\n",
    "korelacja"
   ]
  }
 ],
 "metadata": {
  "kernelspec": {
   "display_name": "Python 3",
   "language": "python",
   "name": "python3"
  },
  "language_info": {
   "codemirror_mode": {
    "name": "ipython",
    "version": 3
   },
   "file_extension": ".py",
   "mimetype": "text/x-python",
   "name": "python",
   "nbconvert_exporter": "python",
   "pygments_lexer": "ipython3",
   "version": "3.9.2"
  }
 },
 "nbformat": 4,
 "nbformat_minor": 5
}
