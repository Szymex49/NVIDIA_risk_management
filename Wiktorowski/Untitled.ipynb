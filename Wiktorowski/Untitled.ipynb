{
 "cells": [
  {
   "cell_type": "code",
   "execution_count": 8,
   "id": "d618e87f",
   "metadata": {},
   "outputs": [],
   "source": [
    "import pandas as pd\n",
    "import matplotlib.pyplot as plt\n",
    "import numpy as np\n",
    "import math\n",
    "from statistics import stdev"
   ]
  },
  {
   "cell_type": "markdown",
   "id": "cbeb9a83",
   "metadata": {},
   "source": [
    "## Ceny miedzi na przestrzeni 5 lat (bierzemy ceny otwarcia Open)"
   ]
  },
  {
   "cell_type": "code",
   "execution_count": 4,
   "id": "c7260cfd",
   "metadata": {},
   "outputs": [
    {
     "data": {
      "text/html": [
       "<div>\n",
       "<style scoped>\n",
       "    .dataframe tbody tr th:only-of-type {\n",
       "        vertical-align: middle;\n",
       "    }\n",
       "\n",
       "    .dataframe tbody tr th {\n",
       "        vertical-align: top;\n",
       "    }\n",
       "\n",
       "    .dataframe thead th {\n",
       "        text-align: right;\n",
       "    }\n",
       "</style>\n",
       "<table border=\"1\" class=\"dataframe\">\n",
       "  <thead>\n",
       "    <tr style=\"text-align: right;\">\n",
       "      <th></th>\n",
       "      <th>Date</th>\n",
       "      <th>Close/Last</th>\n",
       "      <th>Volume</th>\n",
       "      <th>Open</th>\n",
       "      <th>High</th>\n",
       "      <th>Low</th>\n",
       "    </tr>\n",
       "  </thead>\n",
       "  <tbody>\n",
       "    <tr>\n",
       "      <th>0</th>\n",
       "      <td>03/28/2023</td>\n",
       "      <td>4.0855</td>\n",
       "      <td>75067</td>\n",
       "      <td>4.0970</td>\n",
       "      <td>4.1130</td>\n",
       "      <td>4.0590</td>\n",
       "    </tr>\n",
       "    <tr>\n",
       "      <th>1</th>\n",
       "      <td>03/27/2023</td>\n",
       "      <td>4.0785</td>\n",
       "      <td>65558</td>\n",
       "      <td>4.0750</td>\n",
       "      <td>4.1020</td>\n",
       "      <td>4.0235</td>\n",
       "    </tr>\n",
       "    <tr>\n",
       "      <th>2</th>\n",
       "      <td>03/24/2023</td>\n",
       "      <td>4.0750</td>\n",
       "      <td>82229</td>\n",
       "      <td>4.1015</td>\n",
       "      <td>4.1485</td>\n",
       "      <td>4.0505</td>\n",
       "    </tr>\n",
       "    <tr>\n",
       "      <th>3</th>\n",
       "      <td>03/23/2023</td>\n",
       "      <td>4.1235</td>\n",
       "      <td>77824</td>\n",
       "      <td>4.0430</td>\n",
       "      <td>4.1265</td>\n",
       "      <td>4.0225</td>\n",
       "    </tr>\n",
       "    <tr>\n",
       "      <th>4</th>\n",
       "      <td>03/22/2023</td>\n",
       "      <td>4.0445</td>\n",
       "      <td>77119</td>\n",
       "      <td>4.0015</td>\n",
       "      <td>4.1075</td>\n",
       "      <td>3.9715</td>\n",
       "    </tr>\n",
       "    <tr>\n",
       "      <th>...</th>\n",
       "      <td>...</td>\n",
       "      <td>...</td>\n",
       "      <td>...</td>\n",
       "      <td>...</td>\n",
       "      <td>...</td>\n",
       "      <td>...</td>\n",
       "    </tr>\n",
       "    <tr>\n",
       "      <th>1254</th>\n",
       "      <td>04/05/2018</td>\n",
       "      <td>3.0745</td>\n",
       "      <td>107499</td>\n",
       "      <td>3.0285</td>\n",
       "      <td>3.0880</td>\n",
       "      <td>3.0135</td>\n",
       "    </tr>\n",
       "    <tr>\n",
       "      <th>1255</th>\n",
       "      <td>04/04/2018</td>\n",
       "      <td>3.0105</td>\n",
       "      <td>137745</td>\n",
       "      <td>3.0670</td>\n",
       "      <td>3.0695</td>\n",
       "      <td>2.9700</td>\n",
       "    </tr>\n",
       "    <tr>\n",
       "      <th>1256</th>\n",
       "      <td>04/03/2018</td>\n",
       "      <td>3.0635</td>\n",
       "      <td>109250</td>\n",
       "      <td>3.0445</td>\n",
       "      <td>3.0695</td>\n",
       "      <td>3.0385</td>\n",
       "    </tr>\n",
       "    <tr>\n",
       "      <th>1257</th>\n",
       "      <td>04/02/2018</td>\n",
       "      <td>3.0500</td>\n",
       "      <td>68976</td>\n",
       "      <td>3.0480</td>\n",
       "      <td>3.0725</td>\n",
       "      <td>3.0370</td>\n",
       "    </tr>\n",
       "    <tr>\n",
       "      <th>1258</th>\n",
       "      <td>03/29/2018</td>\n",
       "      <td>3.0255</td>\n",
       "      <td>102588</td>\n",
       "      <td>3.0010</td>\n",
       "      <td>3.0490</td>\n",
       "      <td>2.9945</td>\n",
       "    </tr>\n",
       "  </tbody>\n",
       "</table>\n",
       "<p>1259 rows × 6 columns</p>\n",
       "</div>"
      ],
      "text/plain": [
       "            Date  Close/Last  Volume    Open    High     Low\n",
       "0     03/28/2023      4.0855   75067  4.0970  4.1130  4.0590\n",
       "1     03/27/2023      4.0785   65558  4.0750  4.1020  4.0235\n",
       "2     03/24/2023      4.0750   82229  4.1015  4.1485  4.0505\n",
       "3     03/23/2023      4.1235   77824  4.0430  4.1265  4.0225\n",
       "4     03/22/2023      4.0445   77119  4.0015  4.1075  3.9715\n",
       "...          ...         ...     ...     ...     ...     ...\n",
       "1254  04/05/2018      3.0745  107499  3.0285  3.0880  3.0135\n",
       "1255  04/04/2018      3.0105  137745  3.0670  3.0695  2.9700\n",
       "1256  04/03/2018      3.0635  109250  3.0445  3.0695  3.0385\n",
       "1257  04/02/2018      3.0500   68976  3.0480  3.0725  3.0370\n",
       "1258  03/29/2018      3.0255  102588  3.0010  3.0490  2.9945\n",
       "\n",
       "[1259 rows x 6 columns]"
      ]
     },
     "execution_count": 4,
     "metadata": {},
     "output_type": "execute_result"
    }
   ],
   "source": [
    "copper = pd.read_csv('copper.csv', sep = ',', encoding = 'latin-1')\n",
    "copper"
   ]
  },
  {
   "cell_type": "markdown",
   "id": "9b745931",
   "metadata": {},
   "source": [
    "## Wykres cen miedzi - jeszcze upiększyć"
   ]
  },
  {
   "cell_type": "code",
   "execution_count": 5,
   "id": "1b80152a",
   "metadata": {},
   "outputs": [
    {
     "data": {
      "image/png": "[encoded data removed]",
      "text/plain": [
       "<Figure size 432x288 with 1 Axes>"
      ]
     },
     "metadata": {
      "needs_background": "light"
     },
     "output_type": "display_data"
    }
   ],
   "source": [
    "plt.plot(copper['Date'].values[::-1], copper['Open'].values[::-1])\n",
    "plt.show()"
   ]
  },
  {
   "cell_type": "markdown",
   "id": "d1282ca4",
   "metadata": {},
   "source": [
    "## Histogram logarytmicznych przyrostów"
   ]
  },
  {
   "cell_type": "code",
   "execution_count": 6,
   "id": "706c20e2",
   "metadata": {},
   "outputs": [
    {
     "data": {
      "image/png": "[encoded data removed]",
      "text/plain": [
       "<Figure size 432x288 with 1 Axes>"
      ]
     },
     "metadata": {
      "needs_background": "light"
     },
     "output_type": "display_data"
    }
   ],
   "source": [
    "s = np.array(copper['Open'].values[1:])\n",
    "s2 = np.array(copper['Open'].values[:-1])\n",
    "r = np.log(s/s2)\n",
    "plt.hist(r, bins = 30, density = True)\n",
    "plt.show()"
   ]
  },
  {
   "cell_type": "markdown",
   "id": "2bf20403",
   "metadata": {},
   "source": [
    "## Miary zmienności ryzyka"
   ]
  },
  {
   "cell_type": "markdown",
   "id": "cc96825b",
   "metadata": {},
   "source": [
    "#### Podejście parametryczne"
   ]
  },
  {
   "cell_type": "code",
   "execution_count": 24,
   "id": "1f1a293a",
   "metadata": {},
   "outputs": [],
   "source": [
    "def norm_kde(x, mi, sigma):\n",
    "    x = np.array(sorted(x))\n",
    "    y = 1/(math.sqrt(2*math.pi)*sigma)*np.exp(-(x - mi)**2/(2*sigma**2))\n",
    "    fig = plt.figure(figsize=(10, 5))\n",
    "    ax = fig.add_subplot(1, 1, 1) \n",
    "    plt.plot(x, y, color = 'blue', label = 'PDF')\n",
    "    plt.hist(x, bins = 50, density = True, color = 'red', ec = 'black')\n",
    "    plt.xlabel('x')\n",
    "    plt.ylabel('f(x)')\n",
    "    plt.legend()\n",
    "    plt.show()"
   ]
  },
  {
   "cell_type": "code",
   "execution_count": 25,
   "id": "6da8ad36",
   "metadata": {},
   "outputs": [
    {
     "data": {
      "image/png": "[encoded data removed]",
      "text/plain": [
       "<Figure size 720x360 with 1 Axes>"
      ]
     },
     "metadata": {
      "needs_background": "light"
     },
     "output_type": "display_data"
    }
   ],
   "source": [
    "norm_kde(r, mu, s)"
   ]
  },
  {
   "cell_type": "markdown",
   "id": "fd022c8d",
   "metadata": {},
   "source": [
    "#### Podejście nieparametryczne"
   ]
  },
  {
   "cell_type": "code",
   "execution_count": 14,
   "id": "e1c91dc4",
   "metadata": {},
   "outputs": [
    {
     "name": "stdout",
     "output_type": "stream",
     "text": [
      "Średnia: -0.00024746377750914307\n",
      "Odchylenie standardowe: 0.014277995279475233\n"
     ]
    }
   ],
   "source": [
    "mu = np.mean(r)\n",
    "s = stdev(r)\n",
    "print('Średnia: ' + str(mu))\n",
    "print('Odchylenie standardowe: ' + str(s))"
   ]
  },
  {
   "cell_type": "code",
   "execution_count": null,
   "id": "577bce07",
   "metadata": {},
   "outputs": [],
   "source": []
  }
 ],
 "metadata": {
  "kernelspec": {
   "display_name": "Python 3 (ipykernel)",
   "language": "python",
   "name": "python3"
  },
  "language_info": {
   "codemirror_mode": {
    "name": "ipython",
    "version": 3
   },
   "file_extension": ".py",
   "mimetype": "text/x-python",
   "name": "python",
   "nbconvert_exporter": "python",
   "pygments_lexer": "ipython3",
   "version": "3.9.7"
  }
 },
 "nbformat": 4,
 "nbformat_minor": 5
}
