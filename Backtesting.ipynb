{
 "cells": [
  {
   "cell_type": "code",
   "execution_count": 1,
   "metadata": {},
   "outputs": [],
   "source": [
    "import numpy as np\n",
    "import matplotlib.pyplot as plt\n",
    "import pandas as pd\n",
    "import statistics\n",
    "import scipy.stats as sp"
   ]
  },
  {
   "cell_type": "code",
   "execution_count": 2,
   "metadata": {},
   "outputs": [
    {
     "data": {
      "text/html": [
       "<div>\n",
       "<style scoped>\n",
       "    .dataframe tbody tr th:only-of-type {\n",
       "        vertical-align: middle;\n",
       "    }\n",
       "\n",
       "    .dataframe tbody tr th {\n",
       "        vertical-align: top;\n",
       "    }\n",
       "\n",
       "    .dataframe thead th {\n",
       "        text-align: right;\n",
       "    }\n",
       "</style>\n",
       "<table border=\"1\" class=\"dataframe\">\n",
       "  <thead>\n",
       "    <tr style=\"text-align: right;\">\n",
       "      <th></th>\n",
       "      <th>Date</th>\n",
       "      <th>Close/Last</th>\n",
       "      <th>Volume</th>\n",
       "      <th>Open</th>\n",
       "      <th>High</th>\n",
       "      <th>Low</th>\n",
       "    </tr>\n",
       "  </thead>\n",
       "  <tbody>\n",
       "    <tr>\n",
       "      <th>0</th>\n",
       "      <td>04/14/2023</td>\n",
       "      <td>4.1065</td>\n",
       "      <td>98124</td>\n",
       "      <td>4.1285</td>\n",
       "      <td>4.1955</td>\n",
       "      <td>4.0950</td>\n",
       "    </tr>\n",
       "    <tr>\n",
       "      <th>1</th>\n",
       "      <td>04/13/2023</td>\n",
       "      <td>4.1240</td>\n",
       "      <td>88437</td>\n",
       "      <td>4.0700</td>\n",
       "      <td>4.1430</td>\n",
       "      <td>4.0535</td>\n",
       "    </tr>\n",
       "    <tr>\n",
       "      <th>2</th>\n",
       "      <td>04/12/2023</td>\n",
       "      <td>4.0810</td>\n",
       "      <td>88325</td>\n",
       "      <td>4.0295</td>\n",
       "      <td>4.0880</td>\n",
       "      <td>3.9840</td>\n",
       "    </tr>\n",
       "    <tr>\n",
       "      <th>3</th>\n",
       "      <td>04/11/2023</td>\n",
       "      <td>4.0195</td>\n",
       "      <td>81243</td>\n",
       "      <td>3.9870</td>\n",
       "      <td>4.0540</td>\n",
       "      <td>3.9780</td>\n",
       "    </tr>\n",
       "    <tr>\n",
       "      <th>4</th>\n",
       "      <td>04/10/2023</td>\n",
       "      <td>3.9765</td>\n",
       "      <td>53745</td>\n",
       "      <td>4.0180</td>\n",
       "      <td>4.0395</td>\n",
       "      <td>3.9630</td>\n",
       "    </tr>\n",
       "    <tr>\n",
       "      <th>...</th>\n",
       "      <td>...</td>\n",
       "      <td>...</td>\n",
       "      <td>...</td>\n",
       "      <td>...</td>\n",
       "      <td>...</td>\n",
       "      <td>...</td>\n",
       "    </tr>\n",
       "    <tr>\n",
       "      <th>1255</th>\n",
       "      <td>04/20/2018</td>\n",
       "      <td>3.1555</td>\n",
       "      <td>33960</td>\n",
       "      <td>3.1490</td>\n",
       "      <td>3.1685</td>\n",
       "      <td>3.1275</td>\n",
       "    </tr>\n",
       "    <tr>\n",
       "      <th>1256</th>\n",
       "      <td>04/19/2018</td>\n",
       "      <td>3.1540</td>\n",
       "      <td>37634</td>\n",
       "      <td>3.1835</td>\n",
       "      <td>3.2180</td>\n",
       "      <td>3.1350</td>\n",
       "    </tr>\n",
       "    <tr>\n",
       "      <th>1257</th>\n",
       "      <td>04/18/2018</td>\n",
       "      <td>3.1815</td>\n",
       "      <td>51721</td>\n",
       "      <td>3.1100</td>\n",
       "      <td>3.2015</td>\n",
       "      <td>3.0995</td>\n",
       "    </tr>\n",
       "    <tr>\n",
       "      <th>1258</th>\n",
       "      <td>04/17/2018</td>\n",
       "      <td>3.0795</td>\n",
       "      <td>88784</td>\n",
       "      <td>3.0835</td>\n",
       "      <td>3.1020</td>\n",
       "      <td>3.0545</td>\n",
       "    </tr>\n",
       "    <tr>\n",
       "      <th>1259</th>\n",
       "      <td>04/16/2018</td>\n",
       "      <td>3.0955</td>\n",
       "      <td>103418</td>\n",
       "      <td>3.0645</td>\n",
       "      <td>3.1170</td>\n",
       "      <td>3.0440</td>\n",
       "    </tr>\n",
       "  </tbody>\n",
       "</table>\n",
       "<p>1260 rows × 6 columns</p>\n",
       "</div>"
      ],
      "text/plain": [
       "            Date  Close/Last  Volume    Open    High     Low\n",
       "0     04/14/2023      4.1065   98124  4.1285  4.1955  4.0950\n",
       "1     04/13/2023      4.1240   88437  4.0700  4.1430  4.0535\n",
       "2     04/12/2023      4.0810   88325  4.0295  4.0880  3.9840\n",
       "3     04/11/2023      4.0195   81243  3.9870  4.0540  3.9780\n",
       "4     04/10/2023      3.9765   53745  4.0180  4.0395  3.9630\n",
       "...          ...         ...     ...     ...     ...     ...\n",
       "1255  04/20/2018      3.1555   33960  3.1490  3.1685  3.1275\n",
       "1256  04/19/2018      3.1540   37634  3.1835  3.2180  3.1350\n",
       "1257  04/18/2018      3.1815   51721  3.1100  3.2015  3.0995\n",
       "1258  04/17/2018      3.0795   88784  3.0835  3.1020  3.0545\n",
       "1259  04/16/2018      3.0955  103418  3.0645  3.1170  3.0440\n",
       "\n",
       "[1260 rows x 6 columns]"
      ]
     },
     "execution_count": 2,
     "metadata": {},
     "output_type": "execute_result"
    }
   ],
   "source": [
    "#Przygotowanie danych do backtestingu\n",
    "\n",
    "pre = pd.read_csv(\"data/copper.csv\")\n",
    "pre"
   ]
  },
  {
   "cell_type": "code",
   "execution_count": 3,
   "metadata": {},
   "outputs": [
    {
     "data": {
      "text/plain": [
       "array([['04/14/2023', 4.1065, 98124, 4.1285, 4.1955, 4.095],\n",
       "       ['04/13/2023', 4.124, 88437, 4.07, 4.143, 4.0535],\n",
       "       ['04/12/2023', 4.081, 88325, 4.0295, 4.088, 3.984],\n",
       "       ...,\n",
       "       ['04/18/2018', 3.1815, 51721, 3.11, 3.2015, 3.0995],\n",
       "       ['04/17/2018', 3.0795, 88784, 3.0835, 3.102, 3.0545],\n",
       "       ['04/16/2018', 3.0955, 103418, 3.0645, 3.117, 3.044]], dtype=object)"
      ]
     },
     "execution_count": 3,
     "metadata": {},
     "output_type": "execute_result"
    }
   ],
   "source": [
    "#Konwersja danych do postaci wektorowej\n",
    "pre1 = pre.to_numpy()\n",
    "pre1"
   ]
  },
  {
   "cell_type": "code",
   "execution_count": 4,
   "metadata": {},
   "outputs": [],
   "source": [
    "#Ekstraktowanie konkretnych wartości i tworzenie odwróconej listy\n",
    "data = []\n",
    "for i in range(1260):\n",
    "    data.append(pre1[i][2])\n",
    "    \n",
    "data_rvs = data[::-1]"
   ]
  },
  {
   "cell_type": "code",
   "execution_count": 5,
   "metadata": {},
   "outputs": [],
   "source": [
    "#Backtesting dla cen miedzi - kwantyle\n",
    "\n",
    "#Funkcja obliczająca kwantyle rzędu alpha dla próbki liczącej 50% data_rvs i przyrównująca je do następnej wartości\n",
    "def copper_backtesting_num(alpha):\n",
    "    counts = []\n",
    "    i = 0\n",
    "    mimi = len(data_rvs)\n",
    "    n = int((mimi-1)/2)\n",
    "    while i <= n:\n",
    "        X = data_rvs[i:n+i]\n",
    "        r = data_rvs[n+1+i]\n",
    "        k = np.quantile(X, alpha)\n",
    "        if k > r:\n",
    "            j = 1\n",
    "        elif k < r:\n",
    "            j = 0\n",
    "        else:\n",
    "            pass\n",
    "        counts.append(j)\n",
    "        i += 1\n",
    "    EX = statistics.mean(counts)\n",
    "    VarX = statistics.variance(counts)\n",
    "    return [EX, VarX]"
   ]
  },
  {
   "cell_type": "code",
   "execution_count": 7,
   "metadata": {},
   "outputs": [],
   "source": [
    "#Przygotowanie wartości do narysowania wykresu\n",
    "X = np.linspace(0,1,1000)\n",
    "X1, X2 = [], []\n",
    "for x in X:\n",
    "    c,d = copper_backtesting_num(x)\n",
    "    X1.append(c)\n",
    "    X2.append("
   ]
  },
  {
   "cell_type": "code",
   "execution_count": 8,
   "metadata": {},
   "outputs": [],
   "source": [
    "Y = []\n",
    "for x in X:\n",
    "    Y.append(x * (1-x))"
   ]
  },
  {
   "cell_type": "code",
   "execution_count": 9,
   "metadata": {},
   "outputs": [
    {
     "data": {
      "image/png": "[encoded data removed]",
      "text/plain": [
       "<Figure size 432x288 with 1 Axes>"
      ]
     },
     "metadata": {
      "needs_background": "light"
     },
     "output_type": "display_data"
    }
   ],
   "source": [
    "plt.plot(X,X1,color=\"r\",label=\"Wartość empiryczna\")\n",
    "plt.plot(X,X,color=\"b\",label=\"Wartość teoretyczna\")\n",
    "plt.xticks(ticks = np.linspace(0,1,11))\n",
    "plt.title(\"Porównanie wartości oczekiwanych w zależności od wartości alpha\")\n",
    "plt.xlabel(\"alpha\")\n",
    "plt.legend(loc=\"best\")\n",
    "plt.show()"
   ]
  },
  {
   "cell_type": "code",
   "execution_count": 10,
   "metadata": {},
   "outputs": [
    {
     "data": {
      "image/png": "[encoded data removed]",
      "text/plain": [
       "<Figure size 432x288 with 1 Axes>"
      ]
     },
     "metadata": {
      "needs_background": "light"
     },
     "output_type": "display_data"
    }
   ],
   "source": [
    "plt.plot(X,X2,color=\"g\",label=\"Wartość empiryczna\")\n",
    "plt.plot(X,Y,color=\"m\",label=\"Wartość teoretyczna\")\n",
    "plt.xticks(ticks = np.linspace(0,1,11))\n",
    "plt.title(\"Porównanie wariancji w zależności od wartości alpha\")\n",
    "plt.xlabel(\"alpha\")\n",
    "plt.legend(loc=\"best\")\n",
    "plt.show()"
   ]
  },
  {
   "cell_type": "code",
   "execution_count": 9,
   "metadata": {},
   "outputs": [],
   "source": [
    "#Backtesting dla cen miedzi - test równości wariancji\n",
    "\n",
    "#Próbki danych wielkości: 20%, 40%, 50%, 60% i 80% data_rvs i ich dopełnienia\n",
    "X0 = data_rvs[0:252]\n",
    "X1 = data_rvs[0:504]\n",
    "X2 = data_rvs[0:630]\n",
    "X3 = data_rvs[0:756]\n",
    "X4 = data_rvs[0:1008]\n",
    "\n",
    "Y0 = data_rvs[252:]\n",
    "Y1 = data_rvs[504:]\n",
    "Y2 = data_rvs[630:]\n",
    "Y3 = data_rvs[756:]\n",
    "Y4 = data_rvs[1008:]"
   ]
  },
  {
   "cell_type": "code",
   "execution_count": 10,
   "metadata": {},
   "outputs": [
    {
     "name": "stdout",
     "output_type": "stream",
     "text": [
      "Ttest_indResult(statistic=7.611238192324326, pvalue=5.3026192486298303e-14)\n",
      "Ttest_indResult(statistic=0.15605395565939004, pvalue=0.8760155292179066)\n",
      "Ttest_indResult(statistic=-1.4648946487997534, pvalue=0.14319952403844802)\n",
      "Ttest_indResult(statistic=1.0547511986204796, pvalue=0.29174165522200773)\n",
      "Ttest_indResult(statistic=-0.08402224090260181, pvalue=0.9330521167970571)\n"
     ]
    }
   ],
   "source": [
    "#Testy równości wariancji dla dwustronnej hipotezy alternatywnej\n",
    "print(sp.ttest_ind(X0,Y0))\n",
    "print(sp.ttest_ind(X1,Y1))\n",
    "print(sp.ttest_ind(X2,Y2))\n",
    "print(sp.ttest_ind(X3,Y3))\n",
    "print(sp.ttest_ind(X4,Y4))"
   ]
  },
  {
   "cell_type": "code",
   "execution_count": 13,
   "metadata": {},
   "outputs": [
    {
     "name": "stdout",
     "output_type": "stream",
     "text": [
      "Ttest_indResult(statistic=7.611238192324326, pvalue=2.6513096243149152e-14)\n",
      "Ttest_indResult(statistic=7.611238192324326, pvalue=0.9999999999999735)\n"
     ]
    }
   ],
   "source": [
    "print(sp.ttest_ind(X0,Y0, alternative='greater'))\n",
    "print(sp.ttest_ind(X0,Y0, alternative='less'))"
   ]
  }
 ],
 "metadata": {
  "kernelspec": {
   "display_name": "Python 3",
   "language": "python",
   "name": "python3"
  },
  "language_info": {
   "codemirror_mode": {
    "name": "ipython",
    "version": 3
   },
   "file_extension": ".py",
   "mimetype": "text/x-python",
   "name": "python",
   "nbconvert_exporter": "python",
   "pygments_lexer": "ipython3",
   "version": "3.9.2"
  }
 },
 "nbformat": 4,
 "nbformat_minor": 4
}
