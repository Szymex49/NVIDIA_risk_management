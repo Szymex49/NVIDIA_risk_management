{
 "cells": [
  {
   "attachments": {},
   "cell_type": "markdown",
   "id": "84a19b22",
   "metadata": {},
   "source": [
    "# Zarządzanie ryzykiem w firmie Nvidia - raport 4"
   ]
  },
  {
   "attachments": {},
   "cell_type": "markdown",
   "id": "58118422",
   "metadata": {},
   "source": [
    "## Dane - ceny miedzi (?)"
   ]
  },
  {
   "cell_type": "code",
   "execution_count": 2,
   "id": "168ac682",
   "metadata": {},
   "outputs": [],
   "source": [
    "import pandas as pd\n",
    "import matplotlib.pyplot as plt\n",
    "import numpy as np\n",
    "import math\n",
    "from statistics import stdev\n",
    "import scipy.stats as sp\n",
    "from scipy.stats import median_abs_deviation, skew, kurtosis\n",
    "from scipy.stats import norm, logistic, laplace\n",
    "from scipy.stats import pearsonr\n",
    "from scipy.special import erf\n",
    "import seaborn as sns; sns.set()"
   ]
  },
  {
   "cell_type": "code",
   "execution_count": 3,
   "id": "18c24100",
   "metadata": {},
   "outputs": [],
   "source": [
    "def equalize(df, d): #funkcja ta skaluje ceny miedzi do cen za tonę\n",
    "    col_names = [col for col in df.columns][1:]\n",
    "    col_names.remove('Volume')\n",
    "    for name in col_names:\n",
    "        df[name] = df[name]*d\n",
    "    return df\n",
    "\n",
    "def draw_stock(df, clr, title): #funkcja rysuje wykres cen\n",
    "    fig, ax = plt.subplots(figsize = (15, 4))\n",
    "    plt.xticks(rotation = 45)\n",
    "    xloc = plt.MaxNLocator(9)\n",
    "    ax.xaxis.set_major_locator(xloc)\n",
    "    dates = df['Date'].values[::-1]\n",
    "    prices = df['Open'].values[::-1]\n",
    "    plt.plot(dates, prices, color = clr)\n",
    "    plt.ylabel('USD')\n",
    "    plt.title(title, fontsize = 25)\n",
    "    plt.show()\n",
    "    \n",
    "def draw_ret(df, clr, title): #funkcja rysuje wykres log stóp zwrotu\n",
    "    fig, ax = plt.subplots(figsize = (15, 4))\n",
    "    plt.xticks(rotation = 45)\n",
    "    xloc = plt.MaxNLocator(9)\n",
    "    ax.xaxis.set_major_locator(xloc)\n",
    "    dates = df['Date'].values[::-1][:-1]\n",
    "    prices1 = df['Open'].values[::-1][1:]\n",
    "    prices2 = df['Open'].values[::-1][:-1]\n",
    "    r = np.log(prices1/prices2)\n",
    "    plt.plot(dates, r, color = clr, lw=1)\n",
    "    plt.title(title, fontsize = 25)\n",
    "    plt.show()"
   ]
  },
  {
   "cell_type": "code",
   "execution_count": 4,
   "id": "10abafeb",
   "metadata": {},
   "outputs": [
    {
     "data": {
      "text/html": [
       "<div>\n",
       "<style scoped>\n",
       "    .dataframe tbody tr th:only-of-type {\n",
       "        vertical-align: middle;\n",
       "    }\n",
       "\n",
       "    .dataframe tbody tr th {\n",
       "        vertical-align: top;\n",
       "    }\n",
       "\n",
       "    .dataframe thead th {\n",
       "        text-align: right;\n",
       "    }\n",
       "</style>\n",
       "<table border=\"1\" class=\"dataframe\">\n",
       "  <thead>\n",
       "    <tr style=\"text-align: right;\">\n",
       "      <th></th>\n",
       "      <th>Date</th>\n",
       "      <th>Close/Last</th>\n",
       "      <th>Volume</th>\n",
       "      <th>Open</th>\n",
       "      <th>High</th>\n",
       "      <th>Low</th>\n",
       "    </tr>\n",
       "  </thead>\n",
       "  <tbody>\n",
       "    <tr>\n",
       "      <th>0</th>\n",
       "      <td>04/14/2023</td>\n",
       "      <td>9053.284349</td>\n",
       "      <td>98124</td>\n",
       "      <td>9101.786056</td>\n",
       "      <td>9249.495796</td>\n",
       "      <td>9027.931185</td>\n",
       "    </tr>\n",
       "    <tr>\n",
       "      <th>1</th>\n",
       "      <td>04/13/2023</td>\n",
       "      <td>9091.865252</td>\n",
       "      <td>88437</td>\n",
       "      <td>8972.815610</td>\n",
       "      <td>9133.753089</td>\n",
       "      <td>8936.439330</td>\n",
       "    </tr>\n",
       "    <tr>\n",
       "      <th>2</th>\n",
       "      <td>04/12/2023</td>\n",
       "      <td>8997.066463</td>\n",
       "      <td>88325</td>\n",
       "      <td>8883.528378</td>\n",
       "      <td>9012.498824</td>\n",
       "      <td>8783.218032</td>\n",
       "    </tr>\n",
       "    <tr>\n",
       "      <th>3</th>\n",
       "      <td>04/11/2023</td>\n",
       "      <td>8861.482148</td>\n",
       "      <td>81243</td>\n",
       "      <td>8789.831901</td>\n",
       "      <td>8937.541642</td>\n",
       "      <td>8769.990294</td>\n",
       "    </tr>\n",
       "    <tr>\n",
       "      <th>4</th>\n",
       "      <td>04/10/2023</td>\n",
       "      <td>8766.683360</td>\n",
       "      <td>53745</td>\n",
       "      <td>8858.175214</td>\n",
       "      <td>8905.574609</td>\n",
       "      <td>8736.920949</td>\n",
       "    </tr>\n",
       "    <tr>\n",
       "      <th>...</th>\n",
       "      <td>...</td>\n",
       "      <td>...</td>\n",
       "      <td>...</td>\n",
       "      <td>...</td>\n",
       "      <td>...</td>\n",
       "      <td>...</td>\n",
       "    </tr>\n",
       "    <tr>\n",
       "      <th>1255</th>\n",
       "      <td>04/20/2018</td>\n",
       "      <td>6956.687877</td>\n",
       "      <td>33960</td>\n",
       "      <td>6942.357827</td>\n",
       "      <td>6985.347975</td>\n",
       "      <td>6894.958432</td>\n",
       "    </tr>\n",
       "    <tr>\n",
       "      <th>1256</th>\n",
       "      <td>04/19/2018</td>\n",
       "      <td>6953.380942</td>\n",
       "      <td>37634</td>\n",
       "      <td>7018.417320</td>\n",
       "      <td>7094.476814</td>\n",
       "      <td>6911.493105</td>\n",
       "    </tr>\n",
       "    <tr>\n",
       "      <th>1257</th>\n",
       "      <td>04/18/2018</td>\n",
       "      <td>7014.008075</td>\n",
       "      <td>51721</td>\n",
       "      <td>6856.377530</td>\n",
       "      <td>7058.100534</td>\n",
       "      <td>6833.228989</td>\n",
       "    </tr>\n",
       "    <tr>\n",
       "      <th>1258</th>\n",
       "      <td>04/17/2018</td>\n",
       "      <td>6789.136529</td>\n",
       "      <td>88784</td>\n",
       "      <td>6797.955020</td>\n",
       "      <td>6838.740546</td>\n",
       "      <td>6734.020954</td>\n",
       "    </tr>\n",
       "    <tr>\n",
       "      <th>1259</th>\n",
       "      <td>04/16/2018</td>\n",
       "      <td>6824.410496</td>\n",
       "      <td>103418</td>\n",
       "      <td>6756.067183</td>\n",
       "      <td>6871.809891</td>\n",
       "      <td>6710.872412</td>\n",
       "    </tr>\n",
       "  </tbody>\n",
       "</table>\n",
       "<p>1260 rows × 6 columns</p>\n",
       "</div>"
      ],
      "text/plain": [
       "            Date   Close/Last  Volume         Open         High          Low\n",
       "0     04/14/2023  9053.284349   98124  9101.786056  9249.495796  9027.931185\n",
       "1     04/13/2023  9091.865252   88437  8972.815610  9133.753089  8936.439330\n",
       "2     04/12/2023  8997.066463   88325  8883.528378  9012.498824  8783.218032\n",
       "3     04/11/2023  8861.482148   81243  8789.831901  8937.541642  8769.990294\n",
       "4     04/10/2023  8766.683360   53745  8858.175214  8905.574609  8736.920949\n",
       "...          ...          ...     ...          ...          ...          ...\n",
       "1255  04/20/2018  6956.687877   33960  6942.357827  6985.347975  6894.958432\n",
       "1256  04/19/2018  6953.380942   37634  7018.417320  7094.476814  6911.493105\n",
       "1257  04/18/2018  7014.008075   51721  6856.377530  7058.100534  6833.228989\n",
       "1258  04/17/2018  6789.136529   88784  6797.955020  6838.740546  6734.020954\n",
       "1259  04/16/2018  6824.410496  103418  6756.067183  6871.809891  6710.872412\n",
       "\n",
       "[1260 rows x 6 columns]"
      ]
     },
     "execution_count": 4,
     "metadata": {},
     "output_type": "execute_result"
    }
   ],
   "source": [
    "copper_ = pd.read_csv('../data/copper.csv', sep = ',', encoding = 'latin-1')\n",
    "copper = equalize(copper_, 2204.623)\n",
    "copper"
   ]
  },
  {
   "cell_type": "code",
   "execution_count": 5,
   "id": "e18aa804",
   "metadata": {},
   "outputs": [
    {
     "data": {
      "image/png": "[encoded data removed]",
      "text/plain": [
       "<Figure size 1080x288 with 1 Axes>"
      ]
     },
     "metadata": {},
     "output_type": "display_data"
    }
   ],
   "source": [
    "draw_stock(copper, 'peru', 'Ceny miedzi')"
   ]
  },
  {
   "cell_type": "code",
   "execution_count": 6,
   "id": "fc51ec37",
   "metadata": {},
   "outputs": [
    {
     "data": {
      "image/png": "[encoded data removed]",
      "text/plain": [
       "<Figure size 1080x288 with 1 Axes>"
      ]
     },
     "metadata": {},
     "output_type": "display_data"
    }
   ],
   "source": [
    "s_copper = np.array(copper['Open'].values)\n",
    "r_copper = np.log(s_copper[1:]/s_copper[:-1]) #tu są logarytmiczne stopy zwrotu\n",
    "t_copper = np.array([*range(len(r_copper))])\n",
    "draw_ret(copper, 'peru', 'Logarytmiczne stopy zwrotu')"
   ]
  },
  {
   "attachments": {},
   "cell_type": "markdown",
   "id": "74657b62",
   "metadata": {},
   "source": [
    "## Metoda parametryczna"
   ]
  },
  {
   "cell_type": "code",
   "execution_count": 7,
   "id": "faceddc7",
   "metadata": {},
   "outputs": [],
   "source": [
    "from scipy.stats import logistic"
   ]
  },
  {
   "cell_type": "code",
   "execution_count": 8,
   "id": "c355e1d4",
   "metadata": {},
   "outputs": [],
   "source": [
    "mi = np.mean(r_copper)\n",
    "sigma = stdev(r_copper)\n",
    "p = [.95,.99]\n",
    "lgstc = logistic.ppf(p, mi, math.sqrt(3)/math.pi*sigma)"
   ]
  },
  {
   "cell_type": "code",
   "execution_count": 9,
   "id": "37c7d771",
   "metadata": {},
   "outputs": [
    {
     "data": {
      "text/plain": [
       "array([0.02291373, 0.0358921 ])"
      ]
     },
     "execution_count": 9,
     "metadata": {},
     "output_type": "execute_result"
    }
   ],
   "source": [
    "lgstc"
   ]
  },
  {
   "attachments": {},
   "cell_type": "markdown",
   "id": "a89c9f5e",
   "metadata": {},
   "source": [
    "## Metoda historyczna - zwykła"
   ]
  },
  {
   "cell_type": "code",
   "execution_count": 10,
   "id": "f81a28be",
   "metadata": {},
   "outputs": [],
   "source": [
    "from statsmodels.distributions.empirical_distribution import ECDF\n",
    "import pandas as pd\n"
   ]
  },
  {
   "cell_type": "code",
   "execution_count": 11,
   "id": "9eb886d3",
   "metadata": {},
   "outputs": [],
   "source": [
    "distr_copper = ECDF(r_copper)"
   ]
  },
  {
   "cell_type": "code",
   "execution_count": 43,
   "id": "17065e4a",
   "metadata": {},
   "outputs": [
    {
     "name": "stdout",
     "output_type": "stream",
     "text": [
      "0.02347116338449104 0.037608719620069585\n"
     ]
    }
   ],
   "source": [
    "VaR_95 = np.quantile(r_copper,.95)\n",
    "VaR_99 = np.quantile(r_copper,.99)\n",
    "print(VaR_95,VaR_99)"
   ]
  },
  {
   "cell_type": "code",
   "execution_count": 44,
   "id": "57a9dbac",
   "metadata": {},
   "outputs": [
    {
     "data": {
      "text/plain": [
       "[0.034383730890892694,\n",
       " 0.035060365329832414,\n",
       " 0.03598191610437585,\n",
       " 0.036217098442325554,\n",
       " 0.03679416767819919,\n",
       " 0.03710514617975447,\n",
       " 0.037502320728765505,\n",
       " 0.0377556514223466,\n",
       " 0.03796982166926521,\n",
       " 0.03872921384712447,\n",
       " 0.040177318447642676,\n",
       " 0.0408684726406883,\n",
       " 0.04225385627110658,\n",
       " 0.0423773121323162,\n",
       " 0.04629157474298002,\n",
       " 0.047009588531809005,\n",
       " 0.0492135496536345,\n",
       " 0.05266769997342544,\n",
       " 0.0535525235669869]"
      ]
     },
     "execution_count": 44,
     "metadata": {},
     "output_type": "execute_result"
    }
   ],
   "source": [
    "new = sorted(r_copper)\n",
    "new[-20:-1]"
   ]
  },
  {
   "cell_type": "code",
   "execution_count": 38,
   "id": "f49a9326",
   "metadata": {},
   "outputs": [
    {
     "name": "stdout",
     "output_type": "stream",
     "text": [
      "34.0\n",
      "40.0\n"
     ]
    }
   ],
   "source": [
    "# Example dataset\n",
    "data = np.array([10, 20, 30, 40, 50])\n",
    "\n",
    "# Computing the 25th and 75th percentiles\n",
    "quantile_25 = np.quantile(data, 0.6)\n",
    "quantile_75 = np.quantile(data, 0.75)\n",
    "\n",
    "print(quantile_25)  # 25th percentile\n",
    "print(quantile_75)  # 75th percentile"
   ]
  },
  {
   "attachments": {},
   "cell_type": "markdown",
   "id": "59be05d9",
   "metadata": {},
   "source": [
    "## Metoda historyczna - ważona"
   ]
  },
  {
   "cell_type": "code",
   "execution_count": 16,
   "id": "2e6da9d6",
   "metadata": {},
   "outputs": [],
   "source": [
    "lambda_weight = .99"
   ]
  },
  {
   "cell_type": "code",
   "execution_count": 17,
   "id": "c4003d69",
   "metadata": {},
   "outputs": [],
   "source": [
    "lambda_s = [lambda_weight**i for i in range(1,len(r_copper))]\n",
    "ws = np.zeros((len(r_copper)))\n",
    "ws[0] = 1/(1+sum(lambda_s))\n",
    "ws[1:] = [ws[0]*lambda_weight**i for i in range(1,len(r_copper))]"
   ]
  },
  {
   "cell_type": "code",
   "execution_count": 18,
   "id": "8244bffb",
   "metadata": {},
   "outputs": [],
   "source": [
    "ws = np.transpose(ws)\n",
    "L = np.transpose(r_copper)"
   ]
  },
  {
   "cell_type": "code",
   "execution_count": 19,
   "id": "eb9a0968",
   "metadata": {},
   "outputs": [],
   "source": [
    "aaaa = np.array([r_copper,ws])\n",
    "aaaa = np.transpose(aaaa)"
   ]
  },
  {
   "cell_type": "code",
   "execution_count": 20,
   "id": "65af01d0",
   "metadata": {},
   "outputs": [
    {
     "data": {
      "text/plain": [
       "array([[-1.42711454e-02,  1.00000320e-02],\n",
       "       [-1.00007007e-02,  9.90003165e-03],\n",
       "       [-1.06032304e-02,  9.80103133e-03],\n",
       "       ...,\n",
       "       [-2.33584943e-02,  3.29462358e-08],\n",
       "       [-8.55741074e-03,  3.26167735e-08],\n",
       "       [-6.18089151e-03,  3.22906057e-08]])"
      ]
     },
     "execution_count": 20,
     "metadata": {},
     "output_type": "execute_result"
    }
   ],
   "source": [
    "aaaa"
   ]
  },
  {
   "cell_type": "code",
   "execution_count": 21,
   "id": "a94d2380",
   "metadata": {},
   "outputs": [],
   "source": [
    "hist_weight = pd.DataFrame(aaaa,columns=['L','w'])\n"
   ]
  },
  {
   "cell_type": "code",
   "execution_count": 22,
   "id": "e63be425",
   "metadata": {},
   "outputs": [],
   "source": [
    "hist_weight = hist_weight.sort_values(by=['L'])\n",
    "hist_weight = hist_weight.reset_index(drop=True)\n"
   ]
  },
  {
   "cell_type": "code",
   "execution_count": 45,
   "id": "e9d63c07",
   "metadata": {},
   "outputs": [
    {
     "data": {
      "text/html": [
       "<div>\n",
       "<style scoped>\n",
       "    .dataframe tbody tr th:only-of-type {\n",
       "        vertical-align: middle;\n",
       "    }\n",
       "\n",
       "    .dataframe tbody tr th {\n",
       "        vertical-align: top;\n",
       "    }\n",
       "\n",
       "    .dataframe thead th {\n",
       "        text-align: right;\n",
       "    }\n",
       "</style>\n",
       "<table border=\"1\" class=\"dataframe\">\n",
       "  <thead>\n",
       "    <tr style=\"text-align: right;\">\n",
       "      <th></th>\n",
       "      <th>L</th>\n",
       "      <th>w</th>\n",
       "      <th>w_s</th>\n",
       "    </tr>\n",
       "  </thead>\n",
       "  <tbody>\n",
       "    <tr>\n",
       "      <th>0</th>\n",
       "      <td>-0.062109</td>\n",
       "      <td>0.003378</td>\n",
       "      <td>0.0</td>\n",
       "    </tr>\n",
       "    <tr>\n",
       "      <th>1</th>\n",
       "      <td>-0.051120</td>\n",
       "      <td>0.001141</td>\n",
       "      <td>0.0</td>\n",
       "    </tr>\n",
       "    <tr>\n",
       "      <th>2</th>\n",
       "      <td>-0.040523</td>\n",
       "      <td>0.000049</td>\n",
       "      <td>0.0</td>\n",
       "    </tr>\n",
       "    <tr>\n",
       "      <th>3</th>\n",
       "      <td>-0.039250</td>\n",
       "      <td>0.000044</td>\n",
       "      <td>0.0</td>\n",
       "    </tr>\n",
       "    <tr>\n",
       "      <th>4</th>\n",
       "      <td>-0.038452</td>\n",
       "      <td>0.003148</td>\n",
       "      <td>0.0</td>\n",
       "    </tr>\n",
       "    <tr>\n",
       "      <th>...</th>\n",
       "      <td>...</td>\n",
       "      <td>...</td>\n",
       "      <td>...</td>\n",
       "    </tr>\n",
       "    <tr>\n",
       "      <th>1254</th>\n",
       "      <td>0.047010</td>\n",
       "      <td>0.000017</td>\n",
       "      <td>0.0</td>\n",
       "    </tr>\n",
       "    <tr>\n",
       "      <th>1255</th>\n",
       "      <td>0.049214</td>\n",
       "      <td>0.001481</td>\n",
       "      <td>0.0</td>\n",
       "    </tr>\n",
       "    <tr>\n",
       "      <th>1256</th>\n",
       "      <td>0.052668</td>\n",
       "      <td>0.001313</td>\n",
       "      <td>0.0</td>\n",
       "    </tr>\n",
       "    <tr>\n",
       "      <th>1257</th>\n",
       "      <td>0.053553</td>\n",
       "      <td>0.001409</td>\n",
       "      <td>0.0</td>\n",
       "    </tr>\n",
       "    <tr>\n",
       "      <th>1258</th>\n",
       "      <td>0.069008</td>\n",
       "      <td>0.000004</td>\n",
       "      <td>0.0</td>\n",
       "    </tr>\n",
       "  </tbody>\n",
       "</table>\n",
       "<p>1259 rows × 3 columns</p>\n",
       "</div>"
      ],
      "text/plain": [
       "             L         w  w_s\n",
       "0    -0.062109  0.003378  0.0\n",
       "1    -0.051120  0.001141  0.0\n",
       "2    -0.040523  0.000049  0.0\n",
       "3    -0.039250  0.000044  0.0\n",
       "4    -0.038452  0.003148  0.0\n",
       "...        ...       ...  ...\n",
       "1254  0.047010  0.000017  0.0\n",
       "1255  0.049214  0.001481  0.0\n",
       "1256  0.052668  0.001313  0.0\n",
       "1257  0.053553  0.001409  0.0\n",
       "1258  0.069008  0.000004  0.0\n",
       "\n",
       "[1259 rows x 3 columns]"
      ]
     },
     "execution_count": 45,
     "metadata": {},
     "output_type": "execute_result"
    }
   ],
   "source": [
    "hist_weight['w_s'] = np.zeros(len(r_copper))\n",
    "hist_weight"
   ]
  },
  {
   "cell_type": "code",
   "execution_count": 24,
   "id": "370df8a1",
   "metadata": {},
   "outputs": [],
   "source": [
    "\n",
    "for i in range(0,len(r_copper)):\n",
    "    hist_weight['w_s'][i] = sum(hist_weight['w'][:i+1])"
   ]
  },
  {
   "cell_type": "code",
   "execution_count": 33,
   "id": "4008eaac",
   "metadata": {},
   "outputs": [
    {
     "data": {
      "text/plain": [
       "0       0.003378\n",
       "1       0.004518\n",
       "2       0.004567\n",
       "3       0.004611\n",
       "4       0.007759\n",
       "          ...   \n",
       "1254    0.995792\n",
       "1255    0.997274\n",
       "1256    0.998587\n",
       "1257    0.999996\n",
       "1258    1.000000\n",
       "Name: w_s, Length: 1259, dtype: float64"
      ]
     },
     "execution_count": 33,
     "metadata": {},
     "output_type": "execute_result"
    }
   ],
   "source": [
    "hist_weight['w_s']"
   ]
  },
  {
   "cell_type": "code",
   "execution_count": 25,
   "id": "fa345411",
   "metadata": {},
   "outputs": [
    {
     "name": "stdout",
     "output_type": "stream",
     "text": [
      "0.001052704623480838\n"
     ]
    }
   ],
   "source": [
    "ws_min_95 = min(abs(hist_weight['w_s']-0.95))\n",
    "ws_min_99 = min(abs(hist_weight['w_s']-0.99))\n",
    "print(ws_min_99)"
   ]
  },
  {
   "cell_type": "code",
   "execution_count": 26,
   "id": "29074d29",
   "metadata": {},
   "outputs": [
    {
     "data": {
      "text/html": [
       "<div>\n",
       "<style scoped>\n",
       "    .dataframe tbody tr th:only-of-type {\n",
       "        vertical-align: middle;\n",
       "    }\n",
       "\n",
       "    .dataframe tbody tr th {\n",
       "        vertical-align: top;\n",
       "    }\n",
       "\n",
       "    .dataframe thead th {\n",
       "        text-align: right;\n",
       "    }\n",
       "</style>\n",
       "<table border=\"1\" class=\"dataframe\">\n",
       "  <thead>\n",
       "    <tr style=\"text-align: right;\">\n",
       "      <th></th>\n",
       "      <th>L</th>\n",
       "      <th>w</th>\n",
       "      <th>w_s</th>\n",
       "    </tr>\n",
       "  </thead>\n",
       "  <tbody>\n",
       "    <tr>\n",
       "      <th>1204</th>\n",
       "      <td>0.024475</td>\n",
       "      <td>0.002305</td>\n",
       "      <td>0.950033</td>\n",
       "    </tr>\n",
       "  </tbody>\n",
       "</table>\n",
       "</div>"
      ],
      "text/plain": [
       "             L         w       w_s\n",
       "1204  0.024475  0.002305  0.950033"
      ]
     },
     "execution_count": 26,
     "metadata": {},
     "output_type": "execute_result"
    }
   ],
   "source": [
    "hist_weight[hist_weight['w_s'] == ws_min_95+.95]"
   ]
  },
  {
   "cell_type": "code",
   "execution_count": 27,
   "id": "6e8b03a2",
   "metadata": {},
   "outputs": [
    {
     "data": {
      "text/html": [
       "<div>\n",
       "<style scoped>\n",
       "    .dataframe tbody tr th:only-of-type {\n",
       "        vertical-align: middle;\n",
       "    }\n",
       "\n",
       "    .dataframe tbody tr th {\n",
       "        vertical-align: top;\n",
       "    }\n",
       "\n",
       "    .dataframe thead th {\n",
       "        text-align: right;\n",
       "    }\n",
       "</style>\n",
       "<table border=\"1\" class=\"dataframe\">\n",
       "  <thead>\n",
       "    <tr style=\"text-align: right;\">\n",
       "      <th></th>\n",
       "      <th>L</th>\n",
       "    </tr>\n",
       "  </thead>\n",
       "  <tbody>\n",
       "    <tr>\n",
       "      <th>1234</th>\n",
       "      <td>0.030807</td>\n",
       "    </tr>\n",
       "  </tbody>\n",
       "</table>\n",
       "</div>"
      ],
      "text/plain": [
       "             L\n",
       "1234  0.030807"
      ]
     },
     "execution_count": 27,
     "metadata": {},
     "output_type": "execute_result"
    }
   ],
   "source": [
    "hist_weight_95 = hist_weight.iloc[(hist_weight['w_s']-.99).abs().argsort()[:1]][['L']]\n",
    "hist_weight_95"
   ]
  },
  {
   "cell_type": "code",
   "execution_count": 28,
   "id": "7b857d06",
   "metadata": {},
   "outputs": [
    {
     "data": {
      "text/plain": [
       "0.030806771642757462"
      ]
     },
     "execution_count": 28,
     "metadata": {},
     "output_type": "execute_result"
    }
   ],
   "source": [
    "hist_weight_99 = float(hist_weight.iloc[(hist_weight['w_s']-.99).abs().argsort()[:1]]['L'])\n",
    "hist_weight_99 #ja pierdole, oby tak miało być xd"
   ]
  },
  {
   "cell_type": "code",
   "execution_count": 29,
   "metadata": {},
   "outputs": [],
   "source": [
    "def hist_weight_fun(lam,ps,x):\n",
    "    n = len(x)\n",
    "    lambda_s = [lam**i for i in range(1,n)]\n",
    "    \n",
    "    ws = np.zeros((n))\n",
    "    ws[0] = 1/(1+sum(lambda_s))\n",
    "    ws[1:] = [ws[0]*lambda_weight**i for i in range(1,n)]\n",
    "\n",
    "    m = np.array([x,ws])\n",
    "    mt = np.transpose(m)\n",
    "    hist_weight = pd.DataFrame(mt,columns=['L','w'])\n",
    "    hist_weight = hist_weight.sort_values(by=['L'])\n",
    "    hist_weight = hist_weight.reset_index(drop=True)\n",
    "\n",
    "    hist_weight['w_s'] = np.zeros(n)\n",
    "    for i in range(0,n):\n",
    "        hist_weight['w_s'][i] = sum(hist_weight['w'][:i+1])\n",
    "\n",
    "    result = [float(hist_weight.iloc[(hist_weight['w_s']-p).abs().argsort()[:1]]['L']) for p in ps]\n",
    "    return(result)\n"
   ]
  },
  {
   "cell_type": "code",
   "execution_count": 30,
   "id": "bd5fbc6a",
   "metadata": {},
   "outputs": [
    {
     "data": {
      "text/plain": [
       "[0.024475034714765666, 0.030806771642757462]"
      ]
     },
     "execution_count": 30,
     "metadata": {},
     "output_type": "execute_result"
    }
   ],
   "source": [
    "hist_weight_fun(.99,[.95,.99],r_copper)"
   ]
  },
  {
   "attachments": {},
   "cell_type": "markdown",
   "id": "a88b9d02",
   "metadata": {},
   "source": [
    "## Metoda historyczna - GARCH"
   ]
  },
  {
   "cell_type": "code",
   "execution_count": 31,
   "id": "12c266c7",
   "metadata": {},
   "outputs": [
    {
     "ename": "ModuleNotFoundError",
     "evalue": "No module named 'arch'",
     "output_type": "error",
     "traceback": [
      "\u001b[1;31m---------------------------------------------------------------------------\u001b[0m",
      "\u001b[1;31mModuleNotFoundError\u001b[0m                       Traceback (most recent call last)",
      "\u001b[1;32m<ipython-input-31-d7b5f935fd9a>\u001b[0m in \u001b[0;36m<module>\u001b[1;34m\u001b[0m\n\u001b[0;32m      1\u001b[0m \u001b[1;32mfrom\u001b[0m \u001b[0mstatsmodels\u001b[0m\u001b[1;33m.\u001b[0m\u001b[0mgraphics\u001b[0m\u001b[1;33m.\u001b[0m\u001b[0mtsaplots\u001b[0m \u001b[1;32mimport\u001b[0m \u001b[0mplot_acf\u001b[0m\u001b[1;33m\u001b[0m\u001b[1;33m\u001b[0m\u001b[0m\n\u001b[0;32m      2\u001b[0m \u001b[1;32mfrom\u001b[0m \u001b[0mmatplotlib\u001b[0m\u001b[1;33m.\u001b[0m\u001b[0mcollections\u001b[0m \u001b[1;32mimport\u001b[0m \u001b[0mPolyCollection\u001b[0m\u001b[1;33m\u001b[0m\u001b[1;33m\u001b[0m\u001b[0m\n\u001b[1;32m----> 3\u001b[1;33m \u001b[1;32mfrom\u001b[0m \u001b[0march\u001b[0m \u001b[1;32mimport\u001b[0m \u001b[0march_model\u001b[0m\u001b[1;33m\u001b[0m\u001b[1;33m\u001b[0m\u001b[0m\n\u001b[0m",
      "\u001b[1;31mModuleNotFoundError\u001b[0m: No module named 'arch'"
     ]
    }
   ],
   "source": [
    "from statsmodels.graphics.tsaplots import plot_acf\n",
    "from matplotlib.collections import PolyCollection\n",
    "from arch import arch_model"
   ]
  },
  {
   "cell_type": "code",
   "execution_count": null,
   "id": "01a9f235",
   "metadata": {},
   "outputs": [
    {
     "data": {
      "image/png": "[encoded data removed]",
      "text/plain": [
       "<Figure size 864x288 with 1 Axes>"
      ]
     },
     "metadata": {},
     "output_type": "display_data"
    }
   ],
   "source": [
    "fig, ax = plt.subplots(figsize=(12, 4))\n",
    "plot_acf(r_copper**2, lags = 30, ax = ax, color = 'g', vlines_kwargs = {\"colors\": 'g'})\n",
    "for item in ax.collections:\n",
    "    if type(item)==PolyCollection:\n",
    "        item.set_facecolor('g')\n",
    "plt.show()"
   ]
  },
  {
   "cell_type": "code",
   "execution_count": null,
   "id": "38f7c7e5",
   "metadata": {},
   "outputs": [
    {
     "name": "stdout",
     "output_type": "stream",
     "text": [
      "Iteration:      1,   Func. Count:     33,   Neg. LLF: -1785.467244282064\n",
      "Iteration:      2,   Func. Count:     68,   Neg. LLF: -2444.842755161767\n",
      "Optimization terminated successfully    (Exit mode 0)\n",
      "            Current function value: -2444.842755308566\n",
      "            Iterations: 6\n",
      "            Function evaluations: 68\n",
      "            Gradient evaluations: 2\n"
     ]
    },
    {
     "name": "stderr",
     "output_type": "stream",
     "text": [
      "D:\\Anaconda\\lib\\site-packages\\arch\\univariate\\base.py:311: DataScaleWarning: y is poorly scaled, which may affect convergence of the optimizer when\n",
      "estimating the model parameters. The scale of y is 0.0002324. Parameter\n",
      "estimation work better when this value is between 1 and 1000. The recommended\n",
      "rescaling is 100 * y.\n",
      "\n",
      "This warning can be disabled by either rescaling y before initializing the\n",
      "model or by setting rescale=False.\n",
      "\n",
      "  warnings.warn(\n",
      "D:\\Anaconda\\lib\\site-packages\\arch\\__future__\\_utility.py:11: FutureWarning: \n",
      "The default for reindex is True. After September 2021 this will change to\n",
      "False. Set reindex to True or False to silence this message. Alternatively,\n",
      "you can use the import comment\n",
      "\n",
      "from arch.__future__ import reindexing\n",
      "\n",
      "to globally set reindex to True and silence this warning.\n",
      "\n",
      "  warnings.warn(\n"
     ]
    },
    {
     "data": {
      "image/png": "[encoded data removed]",
      "text/plain": [
       "<Figure size 432x288 with 1 Axes>"
      ]
     },
     "metadata": {},
     "output_type": "display_data"
    }
   ],
   "source": [
    "n_test = math.floor(0.3*len(r_copper))\n",
    "train, test = r_copper[:-n_test], r_copper[-n_test:]\n",
    "# define model\n",
    "model = arch_model(train, mean='Zero', vol='GARCH', p=15, q=15)\n",
    "# fit model\n",
    "model_fit = model.fit()\n",
    "# forecast the test set\n",
    "yhat = model_fit.forecast(horizon = n_test)\n",
    "# plot the actual variance\n",
    "var = [i*0.01 for i in range(0,100)]\n",
    "plt.plot(var[-n_test:])\n",
    "# plot forecast variance\n",
    "plt.plot(yhat.variance.values[-1, :])\n",
    "plt.show()"
   ]
  },
  {
   "cell_type": "code",
   "execution_count": null,
   "id": "ff7e6e68",
   "metadata": {},
   "outputs": [
    {
     "data": {
      "text/plain": [
       "377"
      ]
     },
     "execution_count": 12,
     "metadata": {},
     "output_type": "execute_result"
    }
   ],
   "source": []
  },
  {
   "attachments": {},
   "cell_type": "markdown",
   "id": "c51b8538",
   "metadata": {},
   "source": [
    "## Metoda Monte Carlo"
   ]
  },
  {
   "attachments": {},
   "cell_type": "markdown",
   "id": "ff9e624e",
   "metadata": {},
   "source": [
    "## Testowanie wsteczne"
   ]
  },
  {
   "cell_type": "code",
   "execution_count": null,
   "id": "548fae8e",
   "metadata": {},
   "outputs": [],
   "source": []
  }
 ],
 "metadata": {
  "kernelspec": {
   "display_name": "Python 3 (ipykernel)",
   "language": "python",
   "name": "python3"
  },
  "language_info": {
   "codemirror_mode": {
    "name": "ipython",
    "version": 3
   },
   "file_extension": ".py",
   "mimetype": "text/x-python",
   "name": "python",
   "nbconvert_exporter": "python",
   "pygments_lexer": "ipython3",
   "version": "3.9.2"
  }
 },
 "nbformat": 4,
 "nbformat_minor": 5
}
