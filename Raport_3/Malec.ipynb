{
 "cells": [
  {
   "cell_type": "code",
   "execution_count": 4,
   "metadata": {},
   "outputs": [],
   "source": [
    "import matplotlib.pyplot as plt\n",
    "import numpy as np\n",
    "import pandas as pd\n",
    "import scipy.stats as sp\n",
    "from statistics import stdev"
   ]
  },
  {
   "cell_type": "code",
   "execution_count": null,
   "metadata": {},
   "outputs": [],
   "source": [
    "def regression(X, Y, display_plot=False):\n",
    "    r = np.corrcoef(X, Y)[0][1]\n",
    "    Sx = stdev(X)\n",
    "    Sy = stdev(Y)\n",
    "    a = r * Sy / Sx\n",
    "    b = np.mean(Y) - a * np.mean(X)\n",
    "\n",
    "    if display_plot:\n",
    "        plt.figure(figsize=(10, 10))\n",
    "        plt.scatter(X, Y, s=4, alpha=0.5)\n",
    "        xs = np.linspace(min(X), max(X), 1000)\n",
    "        plt.plot(xs, a * xs + b, c='red', lw=1)\n",
    "        plt.show()\n",
    "    return [a, b]"
   ]
  },
  {
   "cell_type": "code",
   "execution_count": 3,
   "metadata": {},
   "outputs": [],
   "source": [
    "copper = pd.read_csv('../data/copper.csv')\n",
    "aluminium = pd.read_csv('../data/aluminium.csv')"
   ]
  }
 ],
 "metadata": {
  "kernelspec": {
   "display_name": "Python 3",
   "language": "python",
   "name": "python3"
  },
  "language_info": {
   "codemirror_mode": {
    "name": "ipython",
    "version": 3
   },
   "file_extension": ".py",
   "mimetype": "text/x-python",
   "name": "python",
   "nbconvert_exporter": "python",
   "pygments_lexer": "ipython3",
   "version": "3.8.8"
  },
  "orig_nbformat": 4
 },
 "nbformat": 4,
 "nbformat_minor": 2
}
